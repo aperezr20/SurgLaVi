{
 "cells": [
  {
   "cell_type": "markdown",
   "id": "985ae1d8",
   "metadata": {},
   "source": [
    "\n",
    "# SurgLaVi-β Explorer\n",
    "\n",
    "This notebook reads and explores SurgLaVi-β database.\n",
    "\n",
    "**What you'll get:**\n",
    "- Caption count histograms (unfiltered, surgical, descriptive, surgical & descriptive)\n",
    "- Caption count per level\n",
    "- Violin plots: caption duration by level; per-video caption count by level\n",
    "- Video overview bars (total/silent/narrated/filtered)\n",
    "- Categorical pie charts: `procedure_modality`, `procedure_type`, `specialty`, `subject`\n",
    "- FPS and video duration overview\n",
    "- Sample data per level\n"
   ]
  },
  {
   "cell_type": "code",
   "execution_count": null,
   "id": "2d801349",
   "metadata": {},
   "outputs": [],
   "source": [
    "!pip install pandas\n",
    "!pip install numpy\n",
    "!pip install plotly\n",
    "!pip install matplotlib\n",
    "!pip install sqlalchemy\n",
    "!pip install nbformat"
   ]
  },
  {
   "cell_type": "code",
   "execution_count": null,
   "id": "16d17d7b",
   "metadata": {},
   "outputs": [],
   "source": [
    "import pandas as pd\n",
    "import numpy as np\n",
    "import matplotlib.pyplot as plt\n",
    "\n",
    "import cc_explore_utils as cc\n",
    "\n",
    "RNG_SEED = 42\n",
    "np.random.seed(RNG_SEED)\n",
    "\n",
    "db_url = \"sqlite:///../data/surglavi_beta.db\"  \n"
   ]
  },
  {
   "cell_type": "code",
   "execution_count": null,
   "id": "b72b3266",
   "metadata": {},
   "outputs": [],
   "source": [
    "\n",
    "# --- Connect & Load ---\n",
    "engine = cc.connect(db_url)\n",
    "data = cc.load_all(engine)\n",
    "\n",
    "videos = data[\"videos\"]\n",
    "captions = data[\"captions\"]\n",
    "levels = data[\"levels\"]\n",
    "transcriptions = data[\"transcriptions\"]\n",
    "\n",
    "# Basic summary\n",
    "summary_df = cc.summary_info(videos, captions)\n",
    "display(summary_df)\n"
   ]
  },
  {
   "cell_type": "markdown",
   "id": "268f2272",
   "metadata": {},
   "source": [
    "## Captions"
   ]
  },
  {
   "cell_type": "markdown",
   "id": "2f21bf3d",
   "metadata": {},
   "source": [
    "### 1) Histogram of caption counts"
   ]
  },
  {
   "cell_type": "code",
   "execution_count": null,
   "id": "03b88cab",
   "metadata": {},
   "outputs": [],
   "source": [
    "cc.plot_caption_count_histograms(captions)"
   ]
  },
  {
   "cell_type": "markdown",
   "id": "b799d14e",
   "metadata": {},
   "source": [
    "### 2) Keep only captions that are **surgical & descriptive**"
   ]
  },
  {
   "cell_type": "code",
   "execution_count": null,
   "id": "babb4c5c",
   "metadata": {},
   "outputs": [],
   "source": [
    "\n",
    "captions_f = cc.filter_captions_surgical_descriptive(captions)\n",
    "print(f\"Filtered captions (surgical & descriptive): {len(captions_f)} / {len(captions)}\")\n"
   ]
  },
  {
   "cell_type": "markdown",
   "id": "984c975a",
   "metadata": {},
   "source": [
    "### 3) Histogram of filtered caption count per level"
   ]
  },
  {
   "cell_type": "code",
   "execution_count": null,
   "id": "9aa08a56",
   "metadata": {},
   "outputs": [],
   "source": [
    "cc.plot_caption_counts_by_level(captions_f)"
   ]
  },
  {
   "cell_type": "markdown",
   "id": "baf30154",
   "metadata": {},
   "source": [
    "### 4) Violin plots: duration per level"
   ]
  },
  {
   "cell_type": "code",
   "execution_count": null,
   "id": "fce71e95",
   "metadata": {},
   "outputs": [],
   "source": [
    "cc.plot_duration_violin_by_level(captions_f)"
   ]
  },
  {
   "cell_type": "markdown",
   "id": "5c9686bf",
   "metadata": {},
   "source": [
    "### 5) Violin plots: per-video caption count per level (filtered)"
   ]
  },
  {
   "cell_type": "code",
   "execution_count": null,
   "id": "c6cbf448",
   "metadata": {},
   "outputs": [],
   "source": [
    "cc.plot_avg_caption_count_per_video_by_level(captions_f)"
   ]
  },
  {
   "cell_type": "markdown",
   "id": "6be476ed",
   "metadata": {},
   "source": [
    "## Videos metadata"
   ]
  },
  {
   "cell_type": "markdown",
   "id": "950d1e33",
   "metadata": {},
   "source": [
    "### 1) Histogram bars: total, silent, narrated, filtered"
   ]
  },
  {
   "cell_type": "code",
   "execution_count": null,
   "id": "a898a0e7",
   "metadata": {},
   "outputs": [],
   "source": [
    "cc.plot_video_overview_bars(videos, captions_f)"
   ]
  },
  {
   "cell_type": "markdown",
   "id": "9e7fb584",
   "metadata": {},
   "source": [
    "### 2) Narrated videos that contain surgical & descriptive captions"
   ]
  },
  {
   "cell_type": "code",
   "execution_count": null,
   "id": "e6077c5c",
   "metadata": {},
   "outputs": [],
   "source": [
    "\n",
    "vids_narrated = cc.narrated_videos(videos)\n",
    "vids_filtered = cc.videos_with_filtered_captions(vids_narrated, captions_f)\n",
    "print(f\"Narrated videos: {len(vids_narrated)} / {len(videos)}\")\n",
    "print(f\"Narrated videos that contain filtered captions: {len(vids_filtered)}\")\n"
   ]
  },
  {
   "cell_type": "markdown",
   "id": "0f56cafe",
   "metadata": {},
   "source": [
    "### 3) Categorical distributions"
   ]
  },
  {
   "cell_type": "markdown",
   "id": "22801f35",
   "metadata": {},
   "source": [
    "Procedure modality distribution"
   ]
  },
  {
   "cell_type": "code",
   "execution_count": null,
   "id": "3c3096d1",
   "metadata": {},
   "outputs": [],
   "source": [
    "cc.plot_categorical_pie(vids_filtered, 'procedure_modality')"
   ]
  },
  {
   "cell_type": "markdown",
   "id": "159b1c45",
   "metadata": {},
   "source": [
    "Procedure type distribution (Place your mouse over a category to display its name more clearly)"
   ]
  },
  {
   "cell_type": "code",
   "execution_count": null,
   "id": "3cb860f7",
   "metadata": {},
   "outputs": [],
   "source": [
    "cc.plot_categorical_pie(vids_filtered, 'procedure_type')"
   ]
  },
  {
   "cell_type": "markdown",
   "id": "745bac07",
   "metadata": {},
   "source": [
    "Specialty distribution"
   ]
  },
  {
   "cell_type": "code",
   "execution_count": null,
   "id": "be5b6b91",
   "metadata": {},
   "outputs": [],
   "source": [
    "cc.plot_categorical_pie(vids_filtered, 'specialty')"
   ]
  },
  {
   "cell_type": "markdown",
   "id": "0241055e",
   "metadata": {},
   "source": [
    "Subject distribution"
   ]
  },
  {
   "cell_type": "code",
   "execution_count": null,
   "id": "3086e20d",
   "metadata": {},
   "outputs": [],
   "source": [
    "cc.plot_categorical_pie(vids_filtered, 'subject')"
   ]
  },
  {
   "cell_type": "markdown",
   "id": "a7bbc9b9",
   "metadata": {},
   "source": [
    "### 4) FPS distribution (histogram)"
   ]
  },
  {
   "cell_type": "code",
   "execution_count": null,
   "id": "33eeb1da",
   "metadata": {},
   "outputs": [],
   "source": [
    "cc.plot_fps_hist(vids_filtered)"
   ]
  },
  {
   "cell_type": "markdown",
   "id": "4ac96ad5",
   "metadata": {},
   "source": [
    "### 5) Video duration distribution (histogram)"
   ]
  },
  {
   "cell_type": "code",
   "execution_count": null,
   "id": "f9ab83b0",
   "metadata": {},
   "outputs": [],
   "source": [
    "cc.plot_video_duration_hist(vids_filtered)"
   ]
  },
  {
   "cell_type": "markdown",
   "id": "d14a25fd",
   "metadata": {},
   "source": [
    "## Caption samples"
   ]
  },
  {
   "cell_type": "markdown",
   "id": "985732e3",
   "metadata": {},
   "source": [
    "### Filtered captions: 10 random samples by level"
   ]
  },
  {
   "cell_type": "code",
   "execution_count": null,
   "id": "85c79fda",
   "metadata": {},
   "outputs": [],
   "source": [
    "\n",
    "samples_level_1 = cc.sample_filtered_by_level(captions_f, level_id=1, n=10, seed=RNG_SEED)\n",
    "samples_level_2 = cc.sample_filtered_by_level(captions_f, level_id=2, n=10, seed=RNG_SEED)\n",
    "samples_level_3 = cc.sample_filtered_by_level(captions_f, level_id=3, n=10, seed=RNG_SEED)\n",
    "\n",
    "print(\"Level 1 (task) samples\"); display(samples_level_1)\n",
    "print(\"Level 2 (step) samples\"); display(samples_level_2)\n",
    "print(\"Level 3 (phase) samples\"); display(samples_level_3)\n"
   ]
  },
  {
   "cell_type": "markdown",
   "id": "6d94288a",
   "metadata": {},
   "source": [
    "### Unfiltered captions: 10 random samples"
   ]
  },
  {
   "cell_type": "code",
   "execution_count": null,
   "id": "d1ba87e9",
   "metadata": {},
   "outputs": [],
   "source": [
    "\n",
    "samples_unfiltered = cc.sample_captions(captions, n=10, seed=RNG_SEED)\n",
    "display(samples_unfiltered)\n"
   ]
  }
 ],
 "metadata": {
  "kernelspec": {
   "display_name": ".venv",
   "language": "python",
   "name": "python3"
  },
  "language_info": {
   "codemirror_mode": {
    "name": "ipython",
    "version": 3
   },
   "file_extension": ".py",
   "mimetype": "text/x-python",
   "name": "python",
   "nbconvert_exporter": "python",
   "pygments_lexer": "ipython3",
   "version": "3.13.7"
  }
 },
 "nbformat": 4,
 "nbformat_minor": 5
}
